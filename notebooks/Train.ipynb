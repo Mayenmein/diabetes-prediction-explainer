{
 "cells": [
  {
   "cell_type": "markdown",
   "id": "f849558b",
   "metadata": {},
   "source": [
    "# Model Training"
   ]
  },
  {
   "cell_type": "code",
   "execution_count": 1,
   "id": "71fabd26",
   "metadata": {},
   "outputs": [],
   "source": [
    "import sys\n",
    "import os\n",
    "sys.path.append(os.path.abspath(\"..\"))\n"
   ]
  },
  {
   "cell_type": "code",
   "execution_count": 2,
   "id": "f57f1fb7",
   "metadata": {},
   "outputs": [],
   "source": [
    "from scripts.data_preprocessing import load_data\n",
    "from scripts.train_model import train_model,split_data,hyperparameter_tuning,evaluate_model, plot_feature_importances,tune_model\n",
    "import config"
   ]
  },
  {
   "cell_type": "code",
   "execution_count": 3,
   "id": "4842543a",
   "metadata": {},
   "outputs": [
    {
     "data": {
      "text/html": [
       "<div>\n",
       "<style scoped>\n",
       "    .dataframe tbody tr th:only-of-type {\n",
       "        vertical-align: middle;\n",
       "    }\n",
       "\n",
       "    .dataframe tbody tr th {\n",
       "        vertical-align: top;\n",
       "    }\n",
       "\n",
       "    .dataframe thead th {\n",
       "        text-align: right;\n",
       "    }\n",
       "</style>\n",
       "<table border=\"1\" class=\"dataframe\">\n",
       "  <thead>\n",
       "    <tr style=\"text-align: right;\">\n",
       "      <th></th>\n",
       "      <th>Pregnancies</th>\n",
       "      <th>Glucose</th>\n",
       "      <th>BloodPressure</th>\n",
       "      <th>SkinThickness</th>\n",
       "      <th>Insulin</th>\n",
       "      <th>BMI</th>\n",
       "      <th>DiabetesPedigreeFunction</th>\n",
       "      <th>Age</th>\n",
       "      <th>Outcome</th>\n",
       "      <th>insulin_resistance_index</th>\n",
       "      <th>...</th>\n",
       "      <th>Pregnancies_age_interaction</th>\n",
       "      <th>bmi_glucose_interaction</th>\n",
       "      <th>blood_pressure_age_interaction</th>\n",
       "      <th>insulin_sensitivity_index</th>\n",
       "      <th>glucose_2</th>\n",
       "      <th>age_2</th>\n",
       "      <th>BMI_2</th>\n",
       "      <th>metabolic_syndrome_score</th>\n",
       "      <th>diabetes_risk_factors_count</th>\n",
       "      <th>glycemic_load</th>\n",
       "    </tr>\n",
       "  </thead>\n",
       "  <tbody>\n",
       "    <tr>\n",
       "      <th>0</th>\n",
       "      <td>0.813399</td>\n",
       "      <td>148.0</td>\n",
       "      <td>72.0</td>\n",
       "      <td>3.583519</td>\n",
       "      <td>5.336798</td>\n",
       "      <td>33.6</td>\n",
       "      <td>0.821764</td>\n",
       "      <td>1.364180</td>\n",
       "      <td>1</td>\n",
       "      <td>75.588224</td>\n",
       "      <td>...</td>\n",
       "      <td>300</td>\n",
       "      <td>4972.8</td>\n",
       "      <td>3600.0</td>\n",
       "      <td>0.000033</td>\n",
       "      <td>21904.0</td>\n",
       "      <td>2500</td>\n",
       "      <td>1128.96</td>\n",
       "      <td>2</td>\n",
       "      <td>3</td>\n",
       "      <td>14.8</td>\n",
       "    </tr>\n",
       "    <tr>\n",
       "      <th>1</th>\n",
       "      <td>-0.833906</td>\n",
       "      <td>85.0</td>\n",
       "      <td>66.0</td>\n",
       "      <td>3.401197</td>\n",
       "      <td>4.877392</td>\n",
       "      <td>26.6</td>\n",
       "      <td>-0.168409</td>\n",
       "      <td>0.126452</td>\n",
       "      <td>0</td>\n",
       "      <td>27.344370</td>\n",
       "      <td>...</td>\n",
       "      <td>31</td>\n",
       "      <td>2261.0</td>\n",
       "      <td>2046.0</td>\n",
       "      <td>0.000090</td>\n",
       "      <td>7225.0</td>\n",
       "      <td>961</td>\n",
       "      <td>707.56</td>\n",
       "      <td>0</td>\n",
       "      <td>0</td>\n",
       "      <td>8.5</td>\n",
       "    </tr>\n",
       "    <tr>\n",
       "      <th>2</th>\n",
       "      <td>1.188996</td>\n",
       "      <td>183.0</td>\n",
       "      <td>64.0</td>\n",
       "      <td>3.526361</td>\n",
       "      <td>5.336798</td>\n",
       "      <td>23.3</td>\n",
       "      <td>0.935284</td>\n",
       "      <td>0.230161</td>\n",
       "      <td>1</td>\n",
       "      <td>93.463818</td>\n",
       "      <td>...</td>\n",
       "      <td>256</td>\n",
       "      <td>4263.9</td>\n",
       "      <td>2048.0</td>\n",
       "      <td>0.000026</td>\n",
       "      <td>33489.0</td>\n",
       "      <td>1024</td>\n",
       "      <td>542.89</td>\n",
       "      <td>1</td>\n",
       "      <td>1</td>\n",
       "      <td>18.3</td>\n",
       "    </tr>\n",
       "    <tr>\n",
       "      <th>3</th>\n",
       "      <td>-0.833906</td>\n",
       "      <td>89.0</td>\n",
       "      <td>66.0</td>\n",
       "      <td>3.178054</td>\n",
       "      <td>4.553877</td>\n",
       "      <td>28.1</td>\n",
       "      <td>-1.298725</td>\n",
       "      <td>-1.480075</td>\n",
       "      <td>0</td>\n",
       "      <td>20.656790</td>\n",
       "      <td>...</td>\n",
       "      <td>21</td>\n",
       "      <td>2500.9</td>\n",
       "      <td>1386.0</td>\n",
       "      <td>0.000120</td>\n",
       "      <td>7921.0</td>\n",
       "      <td>441</td>\n",
       "      <td>789.61</td>\n",
       "      <td>0</td>\n",
       "      <td>0</td>\n",
       "      <td>8.9</td>\n",
       "    </tr>\n",
       "    <tr>\n",
       "      <th>4</th>\n",
       "      <td>-1.603317</td>\n",
       "      <td>137.0</td>\n",
       "      <td>40.0</td>\n",
       "      <td>3.583519</td>\n",
       "      <td>5.129899</td>\n",
       "      <td>43.1</td>\n",
       "      <td>2.336680</td>\n",
       "      <td>0.327328</td>\n",
       "      <td>1</td>\n",
       "      <td>56.829630</td>\n",
       "      <td>...</td>\n",
       "      <td>0</td>\n",
       "      <td>5904.7</td>\n",
       "      <td>1320.0</td>\n",
       "      <td>0.000043</td>\n",
       "      <td>18769.0</td>\n",
       "      <td>1089</td>\n",
       "      <td>1857.61</td>\n",
       "      <td>1</td>\n",
       "      <td>1</td>\n",
       "      <td>13.7</td>\n",
       "    </tr>\n",
       "  </tbody>\n",
       "</table>\n",
       "<p>5 rows × 24 columns</p>\n",
       "</div>"
      ],
      "text/plain": [
       "   Pregnancies  Glucose  BloodPressure  SkinThickness   Insulin   BMI  \\\n",
       "0     0.813399    148.0           72.0       3.583519  5.336798  33.6   \n",
       "1    -0.833906     85.0           66.0       3.401197  4.877392  26.6   \n",
       "2     1.188996    183.0           64.0       3.526361  5.336798  23.3   \n",
       "3    -0.833906     89.0           66.0       3.178054  4.553877  28.1   \n",
       "4    -1.603317    137.0           40.0       3.583519  5.129899  43.1   \n",
       "\n",
       "   DiabetesPedigreeFunction       Age  Outcome  insulin_resistance_index  ...  \\\n",
       "0                  0.821764  1.364180        1                 75.588224  ...   \n",
       "1                 -0.168409  0.126452        0                 27.344370  ...   \n",
       "2                  0.935284  0.230161        1                 93.463818  ...   \n",
       "3                 -1.298725 -1.480075        0                 20.656790  ...   \n",
       "4                  2.336680  0.327328        1                 56.829630  ...   \n",
       "\n",
       "   Pregnancies_age_interaction  bmi_glucose_interaction  \\\n",
       "0                          300                   4972.8   \n",
       "1                           31                   2261.0   \n",
       "2                          256                   4263.9   \n",
       "3                           21                   2500.9   \n",
       "4                            0                   5904.7   \n",
       "\n",
       "   blood_pressure_age_interaction  insulin_sensitivity_index  glucose_2  \\\n",
       "0                          3600.0                   0.000033    21904.0   \n",
       "1                          2046.0                   0.000090     7225.0   \n",
       "2                          2048.0                   0.000026    33489.0   \n",
       "3                          1386.0                   0.000120     7921.0   \n",
       "4                          1320.0                   0.000043    18769.0   \n",
       "\n",
       "   age_2    BMI_2  metabolic_syndrome_score  diabetes_risk_factors_count  \\\n",
       "0   2500  1128.96                         2                            3   \n",
       "1    961   707.56                         0                            0   \n",
       "2   1024   542.89                         1                            1   \n",
       "3    441   789.61                         0                            0   \n",
       "4   1089  1857.61                         1                            1   \n",
       "\n",
       "   glycemic_load  \n",
       "0           14.8  \n",
       "1            8.5  \n",
       "2           18.3  \n",
       "3            8.9  \n",
       "4           13.7  \n",
       "\n",
       "[5 rows x 24 columns]"
      ]
     },
     "execution_count": 3,
     "metadata": {},
     "output_type": "execute_result"
    }
   ],
   "source": [
    "df = load_data(config.PROCESSED_DATA_PATH) \n",
    "df.head()"
   ]
  },
  {
   "cell_type": "code",
   "execution_count": 4,
   "id": "3455ae05",
   "metadata": {},
   "outputs": [
    {
     "data": {
      "text/plain": [
       "((614, 23), (154, 23), (614,), (154,))"
      ]
     },
     "execution_count": 4,
     "metadata": {},
     "output_type": "execute_result"
    }
   ],
   "source": [
    "X_train, X_test, y_train, y_test = split_data(df)\n",
    "X_train.shape, X_test.shape, y_train.shape, y_test.shape"
   ]
  },
  {
   "cell_type": "code",
   "execution_count": 5,
   "id": "656209b2",
   "metadata": {},
   "outputs": [
    {
     "name": "stdout",
     "output_type": "stream",
     "text": [
      "Accuracy: 0.88\n",
      "Confusion Matrix:\n",
      "[[92  8]\n",
      " [10 44]]\n",
      "Classification Report:\n",
      "{'0': {'precision': 0.9019607843137255, 'recall': 0.92, 'f1-score': 0.9108910891089109, 'support': 100.0}, '1': {'precision': 0.8461538461538461, 'recall': 0.8148148148148148, 'f1-score': 0.8301886792452831, 'support': 54.0}, 'accuracy': 0.8831168831168831, 'macro avg': {'precision': 0.8740573152337858, 'recall': 0.8674074074074074, 'f1-score': 0.870539884177097, 'support': 154.0}, 'weighted avg': {'precision': 0.8823921176862354, 'recall': 0.8831168831168831, 'f1-score': 0.8825928414943921, 'support': 154.0}}\n"
     ]
    }
   ],
   "source": [
    "from sklearn.ensemble import RandomForestClassifier\n",
    "model = RandomForestClassifier(n_estimators=100, random_state=42 )\n",
    "model = train_model(model,X_train, y_train)\n",
    "metric = evaluate_model(model, X_test, y_test)"
   ]
  },
  {
   "cell_type": "code",
   "execution_count": 6,
   "id": "6abc9871",
   "metadata": {},
   "outputs": [
    {
     "data": {
      "image/png": "[encoded data removed]",
      "text/plain": [
       "<Figure size 1000x600 with 1 Axes>"
      ]
     },
     "metadata": {},
     "output_type": "display_data"
    }
   ],
   "source": [
    "importance = plot_feature_importances(model, X_train.columns)"
   ]
  },
  {
   "cell_type": "code",
   "execution_count": 7,
   "id": "193a9853",
   "metadata": {},
   "outputs": [
    {
     "data": {
      "text/plain": [
       "['glucose_insulin_interaction',\n",
       " 'Insulin',\n",
       " 'insulin_sensitivity_index',\n",
       " 'insulin_resistance_index',\n",
       " 'SkinThickness',\n",
       " 'bmi_glucose_interaction',\n",
       " 'Glucose',\n",
       " 'glucose_to_insulin_ratio',\n",
       " 'glycemic_load',\n",
       " 'glucose_2',\n",
       " 'bmi_age_interaction',\n",
       " 'DiabetesPedigreeFunction',\n",
       " 'blood_pressure_age_interaction',\n",
       " 'BMI',\n",
       " 'BMI_2']"
      ]
     },
     "execution_count": 7,
     "metadata": {},
     "output_type": "execute_result"
    }
   ],
   "source": [
    "importance = importance[importance['Importance'] > 0.02]\n",
    "feature_names = importance['Feature'].tolist()\n",
    "\n",
    "X_train = X_train[feature_names]\n",
    "X_test = X_test[feature_names]\n",
    "feature_names"
   ]
  },
  {
   "cell_type": "code",
   "execution_count": 8,
   "metadata": {},
   "outputs": [
    {
     "name": "stdout",
     "output_type": "stream",
     "text": [
      "Accuracy: 0.89\n",
      "Confusion Matrix:\n",
      "[[93  7]\n",
      " [10 44]]\n",
      "Classification Report:\n",
      "{'0': {'precision': 0.9029126213592233, 'recall': 0.93, 'f1-score': 0.916256157635468, 'support': 100.0}, '1': {'precision': 0.8627450980392157, 'recall': 0.8148148148148148, 'f1-score': 0.8380952380952381, 'support': 54.0}, 'accuracy': 0.8896103896103896, 'macro avg': {'precision': 0.8828288596992195, 'recall': 0.8724074074074074, 'f1-score': 0.8771756978653531, 'support': 154.0}, 'weighted avg': {'precision': 0.88882790538987, 'recall': 0.8896103896103896, 'f1-score': 0.8888490819525302, 'support': 154.0}}\n"
     ]
    }
   ],
   "source": [
    "model = RandomForestClassifier(n_estimators=100, random_state=42)\n",
    "model = train_model(model,X_train, y_train)\n",
    "metric = evaluate_model(model, X_test, y_test)"
   ]
  },
  {
   "cell_type": "code",
   "execution_count": 9,
   "id": "21c5b375",
   "metadata": {},
   "outputs": [
    {
     "name": "stdout",
     "output_type": "stream",
     "text": [
      "Accuracy: 0.75\n",
      "Confusion Matrix:\n",
      "[[87 13]\n",
      " [25 29]]\n",
      "Classification Report:\n",
      "{'0': {'precision': 0.7767857142857143, 'recall': 0.87, 'f1-score': 0.8207547169811321, 'support': 100.0}, '1': {'precision': 0.6904761904761905, 'recall': 0.5370370370370371, 'f1-score': 0.6041666666666666, 'support': 54.0}, 'accuracy': 0.7532467532467533, 'macro avg': {'precision': 0.7336309523809523, 'recall': 0.7035185185185185, 'f1-score': 0.7124606918238994, 'support': 154.0}, 'weighted avg': {'precision': 0.7465213358070502, 'recall': 0.7532467532467533, 'f1-score': 0.7448082577799559, 'support': 154.0}}\n"
     ]
    },
    {
     "name": "stderr",
     "output_type": "stream",
     "text": [
      "c:\\Users\\MARIE\\AppData\\Local\\Programs\\Python\\Python313\\Lib\\site-packages\\sklearn\\linear_model\\_logistic.py:465: ConvergenceWarning: lbfgs failed to converge (status=1):\n",
      "STOP: TOTAL NO. OF F,G EVALUATIONS EXCEEDS LIMIT.\n",
      "\n",
      "Increase the number of iterations (max_iter) or scale the data as shown in:\n",
      "    https://scikit-learn.org/stable/modules/preprocessing.html\n",
      "Please also refer to the documentation for alternative solver options:\n",
      "    https://scikit-learn.org/stable/modules/linear_model.html#logistic-regression\n",
      "  n_iter_i = _check_optimize_result(\n"
     ]
    }
   ],
   "source": [
    "from sklearn.linear_model import LogisticRegression\n",
    "model = LogisticRegression(random_state=42,max_iter=20000 )\n",
    "model = train_model(model,X_train, y_train)\n",
    "metric = evaluate_model(model, X_test, y_test)"
   ]
  },
  {
   "cell_type": "code",
   "execution_count": 10,
   "id": "a31b2006",
   "metadata": {},
   "outputs": [
    {
     "name": "stdout",
     "output_type": "stream",
     "text": [
      "Accuracy: 0.81\n",
      "Confusion Matrix:\n",
      "[[82 18]\n",
      " [11 43]]\n",
      "Classification Report:\n",
      "{'0': {'precision': 0.8817204301075269, 'recall': 0.82, 'f1-score': 0.8497409326424871, 'support': 100.0}, '1': {'precision': 0.7049180327868853, 'recall': 0.7962962962962963, 'f1-score': 0.7478260869565218, 'support': 54.0}, 'accuracy': 0.8116883116883117, 'macro avg': {'precision': 0.7933192314472061, 'recall': 0.8081481481481481, 'f1-score': 0.7987835097995044, 'support': 154.0}, 'weighted avg': {'precision': 0.8197247842937955, 'recall': 0.8116883116883117, 'f1-score': 0.8140045581811746, 'support': 154.0}}\n"
     ]
    }
   ],
   "source": [
    "from sklearn.svm import SVC\n",
    "model = SVC(kernel='rbf', random_state=42)\n",
    "model = train_model(model,X_train, y_train)\n",
    "metric = evaluate_model(model, X_test, y_test)"
   ]
  },
  {
   "cell_type": "code",
   "execution_count": 11,
   "id": "85a2e8d8",
   "metadata": {},
   "outputs": [],
   "source": [
    "#from scipy.stats import randint\n",
    "#model = hyperparameter_tuning(X_train, y_train,model=RandomForestClassifier(random_state=42), param_distributions = {\n",
    "#    'n_estimators': randint(300, 1000),             # Number of trees\n",
    "#    'max_depth': [None] + list(range(5, 50, 5)),   # Tree depth\n",
    "#    'min_samples_split': randint(2, 20),           # Minimum samples to split a node\n",
    "#    'min_samples_leaf': randint(1, 20),            # Minimum samples at a leaf node\n",
    "#    'max_features': ['sqrt', 'log2', None],                    # Use bootstrap samples\n",
    "#    'criterion': ['gini', 'entropy', 'log_loss']   # Splitting criteria\n",
    "#})"
   ]
  },
  {
   "cell_type": "code",
   "execution_count": 12,
   "id": "10d640af",
   "metadata": {},
   "outputs": [
    {
     "name": "stdout",
     "output_type": "stream",
     "text": [
      "Accuracy: 0.90\n",
      "Confusion Matrix:\n",
      "[[93  7]\n",
      " [ 8 46]]\n",
      "Classification Report:\n",
      "{'0': {'precision': 0.9207920792079208, 'recall': 0.93, 'f1-score': 0.9253731343283582, 'support': 100.0}, '1': {'precision': 0.8679245283018868, 'recall': 0.8518518518518519, 'f1-score': 0.8598130841121495, 'support': 54.0}, 'accuracy': 0.9025974025974026, 'macro avg': {'precision': 0.8943583037549039, 'recall': 0.8909259259259259, 'f1-score': 0.8925931092202539, 'support': 154.0}, 'weighted avg': {'precision': 0.9022541068122986, 'recall': 0.9025974025974026, 'f1-score': 0.9023845452915058, 'support': 154.0}}\n"
     ]
    }
   ],
   "source": [
    "model = RandomForestClassifier(random_state=47,criterion='log_loss',max_depth=17,max_features=None,min_samples_leaf=10,min_samples_split=22,n_estimators=593)\n",
    "model = train_model( model,X_train, y_train) \n",
    "metric = evaluate_model(model, X_test, y_test)"
   ]
  },
  {
   "cell_type": "code",
   "execution_count": 13,
   "id": "c5d555ab",
   "metadata": {},
   "outputs": [
    {
     "data": {
      "text/plain": [
       "['c:\\\\Users\\\\MARIE\\\\Desktop\\\\TERENCE\\\\PROJECT.ME\\\\Computer\\\\Diabetes classifier\\\\models\\\\diabetes_model.pkl']"
      ]
     },
     "execution_count": 13,
     "metadata": {},
     "output_type": "execute_result"
    }
   ],
   "source": [
    "import joblib\n",
    "\n",
    "# Save model\n",
    "joblib.dump(model, config.MODEL_PATH)\n"
   ]
  }
 ],
 "metadata": {
  "kernelspec": {
   "display_name": "Python 3",
   "language": "python",
   "name": "python3"
  },
  "language_info": {
   "codemirror_mode": {
    "name": "ipython",
    "version": 3
   },
   "file_extension": ".py",
   "mimetype": "text/x-python",
   "name": "python",
   "nbconvert_exporter": "python",
   "pygments_lexer": "ipython3",
   "version": "3.13.3"
  }
 },
 "nbformat": 4,
 "nbformat_minor": 5
}
